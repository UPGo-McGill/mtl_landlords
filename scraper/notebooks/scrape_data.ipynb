{
 "cells": [
  {
   "cell_type": "code",
   "execution_count": 97,
   "metadata": {},
   "outputs": [
    {
     "name": "stdout",
     "output_type": "stream",
     "text": [
      "The autoreload extension is already loaded. To reload it, use:\n",
      "  %reload_ext autoreload\n"
     ]
    }
   ],
   "source": [
    "%load_ext autoreload\n",
    "%autoreload 2\n",
    "\n",
    "from captcha_solver.captcha_solver import *\n",
    "from session_handling.session_handling import *\n",
    "from scraper.matricule import *\n",
    "\n",
    "# Approaches to explore:\n",
    "# https://dev.to/presto412/how-i-cracked-the-captcha-on-my-universitys-website-237j\n",
    "# https://medium.com/lemontech-engineering/breaking-captchas-from-scracth-almost-753895fade8a\n",
    "\n",
    "# Multithreading approaches\n",
    "# https://stackoverflow.com/questions/20887555/dead-simple-example-of-using-multiprocessing-queue-pool-and-locking\n",
    "# https://stackoverflow.com/questions/44660676/python-using-multiprocessing\n",
    "# https://stackoverflow.com/questions/5442910/python-multiprocessing-pool-map-for-multiple-arguments\n",
    "# https://stackoverflow.com/questions/25553919/passing-multiple-parameters-to-pool-map-function-in-python\n",
    "# https://stackoverflow.com/questions/56562962/how-can-i-pass-two-arguments-to-pool-starmap"
   ]
  },
  {
   "cell_type": "code",
   "execution_count": 98,
   "metadata": {},
   "outputs": [
    {
     "name": "stdout",
     "output_type": "stream",
     "text": [
      "Session successfully initialized with HTTP response code 200.\n",
      "Session ID is 'FKn2fx7VkNRO0_QAryzp3fJgWE2k-FRY51aNzmIXhYUqsws2F6Yl!1684297521'.\n"
     ]
    }
   ],
   "source": [
    "session, response, headers, cookies = initialize_session()"
   ]
  },
  {
   "cell_type": "code",
   "execution_count": 99,
   "metadata": {},
   "outputs": [
    {
     "name": "stdout",
     "output_type": "stream",
     "text": [
      "Request for captcha succeeded with response code 200.\n",
      "Captcha successfully saved as 'img/captcha_19.jpg'.\n",
      "Captcha(s) decoded are:\n",
      "YWB765\n"
     ]
    }
   ],
   "source": [
    "captcha_s = get_captchas(response, headers, cookies)"
   ]
  },
  {
   "cell_type": "code",
   "execution_count": 100,
   "metadata": {},
   "outputs": [
    {
     "name": "stdout",
     "output_type": "stream",
     "text": [
      "Captcha to try is YWB765\n",
      "Captcha bypass attempted with HTTP response code 200. Test scraper to verify pass.\n"
     ]
    }
   ],
   "source": [
    "pass_captcha(session, headers, captcha_s)"
   ]
  },
  {
   "cell_type": "code",
   "execution_count": 101,
   "metadata": {},
   "outputs": [
    {
     "name": "stdout",
     "output_type": "stream",
     "text": [
      "CSV file successfully loaded.\n",
      "The total number of rows is 495019.\n",
      "The total number of unique properties is 495019.\n",
      "Prepared a total of 10 rows for scraping.\n"
     ]
    }
   ],
   "source": [
    "#download_matricule_numbers()\n",
    "matricule_df = load_matricule_numbers()\n",
    "ids_to_scrape = prepare_matricule(matricule_df.MATRICULE83[10:20])"
   ]
  },
  {
   "cell_type": "code",
   "execution_count": 115,
   "metadata": {},
   "outputs": [],
   "source": [
    "\n",
    "        \n",
    "#create_table(\"test\", \"1\")"
   ]
  },
  {
   "cell_type": "code",
   "execution_count": 93,
   "metadata": {},
   "outputs": [
    {
     "name": "stdout",
     "output_type": "stream",
     "text": [
      "Failed\n",
      "Failed\n",
      "Failed\n",
      "Failed\n",
      "Failed\n",
      "Failed\n",
      "Failed\n",
      "Failed\n",
      "Failed\n",
      "Failed\n"
     ]
    }
   ],
   "source": [
    "sqlite_file = \"mtl_properties\"\n",
    "\n",
    "\n",
    "thread(ids_to_scrape, session, \"test_1.sqlite\")"
   ]
  },
  {
   "cell_type": "code",
   "execution_count": 116,
   "metadata": {},
   "outputs": [
    {
     "name": "stdout",
     "output_type": "stream",
     "text": [
      "Successfully opened page for ID 9331-92-9606-2-000-0000.\n",
      "Saved ID 9331-92-9606-2-000-0000 as HTML.\n"
     ]
    }
   ],
   "source": [
    "fetch_url(ids_to_scrape[0], session)"
   ]
  },
  {
   "cell_type": "markdown",
   "metadata": {},
   "source": [
    "## Solution that did not work"
   ]
  },
  {
   "cell_type": "code",
   "execution_count": null,
   "metadata": {},
   "outputs": [],
   "source": [
    "def recognize_captcha(img_path):\n",
    "    im = Image.open(img_path).convert(\"L\")\n",
    "    # 1. threshold the image\n",
    "    threshold = range(0,120)\n",
    "    for t in threshold:\n",
    "        table = []\n",
    "        for i in range(256):\n",
    "            if i < t:\n",
    "                table.append(0)\n",
    "            else:\n",
    "                table.append(1)\n",
    "\n",
    "        out = im.point(table, '1')\n",
    "        #out.show()\n",
    "        # 2. recognize with tesseract\n",
    "        num = pytesseract.image_to_string(out)\n",
    "        if len(num) > 0:\n",
    "            print(t)\n",
    "            print(num)\n",
    "            return_num = num\n",
    "    try:\n",
    "        return(return_num)\n",
    "    except:\n",
    "        return(num)\n",
    "    \n",
    "with open(\"captcha.jpg\", 'rb') as f:\n",
    "    b = io.BytesIO(f.read())\n",
    "\n",
    "res = recognize_captcha(b)\n",
    "print(res)\n",
    "strs = res.split(\"\\n\")\n",
    "print(res)"
   ]
  }
 ],
 "metadata": {
  "kernelspec": {
   "display_name": "geo",
   "language": "python",
   "name": "geo"
  },
  "language_info": {
   "codemirror_mode": {
    "name": "ipython",
    "version": 3
   },
   "file_extension": ".py",
   "mimetype": "text/x-python",
   "name": "python",
   "nbconvert_exporter": "python",
   "pygments_lexer": "ipython3",
   "version": "3.8.2"
  }
 },
 "nbformat": 4,
 "nbformat_minor": 4
}
